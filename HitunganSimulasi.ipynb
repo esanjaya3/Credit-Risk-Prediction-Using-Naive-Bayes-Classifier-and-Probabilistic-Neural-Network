{
 "cells": [
  {
   "cell_type": "code",
   "execution_count": 1,
   "metadata": {},
   "outputs": [
    {
     "name": "stdout",
     "output_type": "stream",
     "text": [
      "Untuk X1: -0.487784\n",
      "Untuk X2: -0.145059\n",
      "Hasil prediksi manual NBC: 1\n",
      "Hasil prediksi manual PNN: 0\n",
      "\n",
      "Untuk X1: -1.367309\n",
      "Untuk X2: -0.952126\n",
      "Hasil prediksi manual NBC: 1\n",
      "Hasil prediksi manual PNN: 1\n",
      "\n",
      "Untuk X1: -0.048022\n",
      "Untuk X2: 2.640866\n",
      "Hasil prediksi manual NBC: 1\n",
      "Hasil prediksi manual PNN: 1\n",
      "\n"
     ]
    }
   ],
   "source": [
    "import math\n",
    "import numpy as np\n",
    "a = math\n",
    "mean01 = -0.004046\n",
    "mean02 = 0.597500\n",
    "mean11 = -0.546419\n",
    "mean12 = -0.103589\n",
    "var01 = 1.023038\n",
    "var02 = 0.00268\n",
    "var11 = 0.625727\n",
    "var12 = 1.439348\n",
    "var = 1.5\n",
    "w011 = 1.00740741\n",
    "w012 = 0.64924881\n",
    "w021 = -1.01549903\n",
    "w022 = 0.54575135\n",
    "w111 = 0.56764514\n",
    "w112 = 1.59206818\n",
    "w121 = -1.01549903\n",
    "w122 = -1.00600173\n",
    "w131 =-1.01549903\n",
    "w132 = 0.54575135\n",
    "tes1 = -0.48778431\n",
    "tes2 = -0.14505878\n",
    "tes10 = -1.36730885\n",
    "tes20 = -0.95212634\n",
    "tes11 = -0.04802204\n",
    "tes21 = 2.64086612\n",
    "tes = np.array([[tes1,tes2], [tes10,tes20], [tes11,tes21]])\n",
    "\n",
    "for i in range(3):\n",
    "    k = (1/(a.sqrt(var01)*a.sqrt(2*3.14)))*a.exp((-1/2)*(((tes[i,0]-mean01)**2)/(var01)))\n",
    "    j = (1/(a.sqrt(var02)*a.sqrt(2*3.14)))*a.exp((-1/2)*(((tes[i,1]-mean02)**2)/(var02)))\n",
    "    l = 0.4*k*j\n",
    "    u = (1/(a.sqrt(var11)*a.sqrt(2*3.14)))*a.exp((-1/2)*(((tes[i,0]-mean11)**2)/(var11)))\n",
    "    q = (1/(a.sqrt(var12)*a.sqrt(2*3.14)))*a.exp((-1/2)*(((tes[i,1]-mean12)**2)/(var12)))\n",
    "    g = 0.6*u*q\n",
    "    if l>g :\n",
    "        hasil1 = 0\n",
    "    else :\n",
    "        hasil1 = 1\n",
    "    print(\"Untuk X1: %f\" % tes[i,0])\n",
    "    print(\"Untuk X2: %f\" % tes[i,1])\n",
    "    print(\"Hasil prediksi manual NBC: %d\" % hasil1)\n",
    "    h01 = a.exp(((tes[i,0]-w011)**2+(tes[i,1]-w012)**2)/(-2*var))\n",
    "    h02 = a.exp(((tes[i,0]-w021)**2+(tes[i,1]-w022)**2)/(-2*var))\n",
    "    h11 = a.exp(((tes[i,0]-w111)**2+(tes[i,1]-w112)**2)/(-2*var))\n",
    "    h12 = a.exp(((tes[i,0]-w121)**2+(tes[i,1]-w122)**2)/(-2*var))\n",
    "    h13 = a.exp(((tes[i,0]-w131)**2+(tes[i,1]-w132)**2)/(-2*var))\n",
    "    w0 = h01 + h02\n",
    "    w1 = h11 + h12 + h13\n",
    "    m = (1/((2*a.pi)*(var**2)*2))*w0\n",
    "    m1 = (1/2)*w0\n",
    "    n = (1/((2*a.pi)*(var**2)*3))*w1\n",
    "    n1 = (1/3)*w1\n",
    "    if m1>n1 :\n",
    "        hasil2 = 0\n",
    "    else :\n",
    "        hasil2 = 1\n",
    "    print(\"Hasil prediksi manual PNN: %d\" % hasil2)\n",
    "    print('')"
   ]
  },
  {
   "cell_type": "code",
   "execution_count": null,
   "metadata": {},
   "outputs": [],
   "source": []
  }
 ],
 "metadata": {
  "kernelspec": {
   "display_name": "Python 3",
   "language": "python",
   "name": "python3"
  },
  "language_info": {
   "codemirror_mode": {
    "name": "ipython",
    "version": 3
   },
   "file_extension": ".py",
   "mimetype": "text/x-python",
   "name": "python",
   "nbconvert_exporter": "python",
   "pygments_lexer": "ipython3",
   "version": "3.7.3"
  }
 },
 "nbformat": 4,
 "nbformat_minor": 4
}
