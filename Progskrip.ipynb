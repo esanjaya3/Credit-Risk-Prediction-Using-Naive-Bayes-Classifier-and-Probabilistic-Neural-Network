{
 "cells": [
  {
   "cell_type": "code",
   "execution_count": 1,
   "metadata": {},
   "outputs": [],
   "source": [
    "import pandas as pd \n",
    "import numpy as np\n",
    "from neupy import algorithms\n",
    "import matplotlib.pyplot as plt \n",
    "from sklearn.naive_bayes import GaussianNB\n",
    "import numpy.random as nr\n",
    "import sklearn.model_selection as ms\n",
    "from sklearn import preprocessing\n",
    "import sklearn.metrics as sklm\n",
    "\n",
    "# Identifikasi data\n",
    "credit=pd.read_csv(\"german_credit.csv\")\n",
    "credit.info()"
   ]
  },
  {
   "cell_type": "code",
   "execution_count": null,
   "metadata": {},
   "outputs": [],
   "source": [
    "# OneHotEncoding\n",
    "label = np.array(credit['default'])\n",
    "def encode_string(cat_features):\n",
    "    enc = preprocessing.LabelEncoder()\n",
    "    enc.fit(cat_features)\n",
    "    enc_cat_features = enc.transform(cat_features)\n",
    "    ohe = preprocessing.OneHotEncoder(categories = 'auto')\n",
    "    encoded = ohe.fit(enc_cat_features.reshape(-1,1))\n",
    "    return encoded.transform(enc_cat_features.reshape(-1,1)).toarray()\n",
    "\n",
    "categorical_columns = ['credit_history', 'purpose', 'savings','present_emp_since','personal_status_sex', \n",
    "                    'other_debtors', 'property','other_installment_plans', 'housing' , 'job' , 'telephone' , 'foreign_worker']\n",
    "atribut = encode_string(credit['account_check_status'])\n",
    "for col in categorical_columns:\n",
    "    temp = encode_string(credit[col])\n",
    "    atribut = np.concatenate([atribut, temp], axis = 1)\n",
    "atribut = np.concatenate([atribut, np.array(credit[['duration_in_month','credit_amount',\n",
    "                                                    'installment_as_income_perc','present_res_since','age',\n",
    "                                                   'credits_this_bank','people_under_maintenance']])], axis = 1)"
   ]
  },
  {
   "cell_type": "code",
   "execution_count": null,
   "metadata": {},
   "outputs": [],
   "source": [
    "# Data Transformation\n",
    "scaler = preprocessing.StandardScaler().fit(atribut)\n",
    "atribut = scaler.transform(atribut)"
   ]
  },
  {
   "cell_type": "code",
   "execution_count": 2,
   "metadata": {},
   "outputs": [
    {
     "name": "stderr",
     "output_type": "stream",
     "text": [
      "                                                                               \r"
     ]
    },
    {
     "name": "stdout",
     "output_type": "stream",
     "text": [
      "1.62\n",
      "(array([7021], dtype=int64),)\n"
     ]
    },
    {
     "data": {
      "image/png": "[encoded data removed]",
      "text/plain": [
       "<Figure size 432x288 with 1 Axes>"
      ]
     },
     "metadata": {
      "needs_background": "light"
     },
     "output_type": "display_data"
    },
    {
     "name": "stdout",
     "output_type": "stream",
     "text": [
      "Average accuracy NBC = 0.643\n",
      "Average accuracy PNN = 0.752\n",
      "\n"
     ]
    }
   ],
   "source": [
    "# Data Splitting + PNN + NBC\n",
    "max_atr = np.amax(atribut)\n",
    "min_atr = np.amin(atribut)\n",
    "stdv = (max_atr-min_atr)/2\n",
    "arr_acc1 = np.array([0])\n",
    "arr_acc2 = np.array([0])\n",
    "sum_acc = np.array([0])\n",
    "for i in range(10000):\n",
    "    nr.seed(i)\n",
    "    indx = range(atribut.shape[0])\n",
    "    indx = ms.train_test_split(indx, test_size = 200)\n",
    "    X_train = atribut[indx[0],:]\n",
    "    y_train = np.ravel(label[indx[0]])\n",
    "    X_test = atribut[indx[1],:]\n",
    "    y_test = np.ravel(label[indx[1]])\n",
    "    NB_mod = GaussianNB()\n",
    "    NB_mod.fit(X_train,y_train)\n",
    "    scores1 = NB_mod.predict(X_test)\n",
    "    pnn = algorithms.PNN(std=stdv, verbose=False)\n",
    "    pnn.train(X_train, y_train)\n",
    "    scores2 = pnn.predict(X_test);\n",
    "    acc1 = sklm.accuracy_score(y_test, scores1)\n",
    "    arr_acc1 = np.concatenate([arr_acc1, np.array([acc1])])\n",
    "    acc2 = sklm.accuracy_score(y_test, scores2)\n",
    "    arr_acc2 = np.concatenate([arr_acc2, np.array([acc2])])\n",
    "    sum = acc1 + acc2\n",
    "    sum_acc = np.concatenate([sum_acc, np.array([sum])])\n",
    "max_sum_acc = np.amax(sum_acc)\n",
    "print(max_sum_acc)\n",
    "index_max_sum_acc = np.where(sum_acc == max_sum_acc)\n",
    "print(index_max_sum_acc)\n",
    "# Hasil\n",
    "plt.scatter(arr_acc1[1:], arr_acc2[1:])\n",
    "plt.xlabel('Accuracy NBC')\n",
    "plt.ylabel('Accuracy PNN')\n",
    "plt.show()\n",
    "avg_acc1 = 0\n",
    "avg_acc2 = 0\n",
    "for i in range(10000):\n",
    "    avg_acc1 = avg_acc1 + arr_acc1[i]\n",
    "    avg_acc2 = avg_acc2 + arr_acc2[i]\n",
    "avg_acc1 = avg_acc1/10000\n",
    "avg_acc2 = avg_acc2/10000\n",
    "print('Average accuracy NBC = %.3f' % avg_acc1)\n",
    "print('Average accuracy PNN = %.3f' % avg_acc2)\n",
    "print('')"
   ]
  },
  {
   "cell_type": "code",
   "execution_count": 3,
   "metadata": {},
   "outputs": [
    {
     "name": "stdout",
     "output_type": "stream",
     "text": [
      "             Confusion matrix\n",
      "             Score 0   Score 1\n",
      "Actual 0      112         35\n",
      "Actual 1       13         40\n",
      "\n",
      "Accuracy = 0.760\n",
      "             Confusion matrix\n",
      "             Score 0   Score 1\n",
      "Actual 0      142          5\n",
      "Actual 1       23         30\n",
      "\n",
      "Accuracy = 0.860\n"
     ]
    },
    {
     "name": "stderr",
     "output_type": "stream",
     "text": [
      "                                                                               \r"
     ]
    }
   ],
   "source": [
    "nr.seed(7020)\n",
    "indx = range(atribut.shape[0])\n",
    "indx = ms.train_test_split(indx, test_size = 200)\n",
    "X_train = atribut[indx[0],:]\n",
    "y_train = np.ravel(label[indx[0]])\n",
    "X_test = atribut[indx[1],:]\n",
    "y_test = np.ravel(label[indx[1]])\n",
    "NB_mod = GaussianNB()\n",
    "NB_mod.fit(X_train,y_train)\n",
    "scores1 = NB_mod.predict(X_test)\n",
    "pnn = algorithms.PNN(std=stdv, verbose=False)\n",
    "pnn.train(X_train, y_train)\n",
    "scores2 = pnn.predict(X_test)\n",
    "def print_metrics(label, scores):\n",
    "        conf = sklm.confusion_matrix(label, scores)\n",
    "        print('             Confusion matrix')\n",
    "        print('             Score 0   Score 1')\n",
    "        print('Actual 0   %6d' % conf[0,0] + '      %5d' % conf[0,1])\n",
    "        print('Actual 1   %6d' % conf[1,0] + '      %5d' % conf[1,1])\n",
    "        print('')\n",
    "        print('Accuracy = %0.3f' % sklm.accuracy_score(label, scores))\n",
    "nb = print_metrics(y_test, scores1)\n",
    "pn = print_metrics(y_test, scores2)"
   ]
  },
  {
   "cell_type": "code",
   "execution_count": null,
   "metadata": {},
   "outputs": [],
   "source": []
  }
 ],
 "metadata": {
  "kernelspec": {
   "display_name": "Python 3",
   "language": "python",
   "name": "python3"
  },
  "language_info": {
   "codemirror_mode": {
    "name": "ipython",
    "version": 3
   },
   "file_extension": ".py",
   "mimetype": "text/x-python",
   "name": "python",
   "nbconvert_exporter": "python",
   "pygments_lexer": "ipython3",
   "version": "3.7.3"
  }
 },
 "nbformat": 4,
 "nbformat_minor": 4
}
