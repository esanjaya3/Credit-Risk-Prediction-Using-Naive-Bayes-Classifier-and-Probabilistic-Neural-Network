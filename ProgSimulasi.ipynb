{
 "cells": [
  {
   "cell_type": "code",
   "execution_count": 1,
   "metadata": {},
   "outputs": [],
   "source": [
    "import pandas as pd \n",
    "import numpy as np\n",
    "from neupy import algorithms\n",
    "from sklearn.naive_bayes import GaussianNB\n",
    "from sklearn import preprocessing\n",
    "import sklearn.metrics as sklm"
   ]
  },
  {
   "cell_type": "code",
   "execution_count": 2,
   "metadata": {},
   "outputs": [],
   "source": [
    "X_train = np.array([[1.00740741,0.64924881],[0.56764514,1.59206818],[-1.01549903,-1.00600173],[-1.19140394,-0.89683318],[-1.01549903,0.54575135]])\n",
    "y_train = np.array([[0],[1],[1],[1],[0]])\n",
    "X_test = np.array([[-0.48778431,-0.14505878],[-1.36730885,-0.95212634],[-0.04802204,2.64086612]])"
   ]
  },
  {
   "cell_type": "code",
   "execution_count": 3,
   "metadata": {},
   "outputs": [
    {
     "name": "stderr",
     "output_type": "stream",
     "text": [
      "C:\\ProgramData\\Anaconda3\\lib\\site-packages\\sklearn\\utils\\validation.py:724: DataConversionWarning: A column-vector y was passed when a 1d array was expected. Please change the shape of y to (n_samples, ), for example using ravel().\n",
      "  y = column_or_1d(y, warn=True)\n",
      "                                                                               \r"
     ]
    }
   ],
   "source": [
    "NB_mod =GaussianNB()\n",
    "NB_mod.fit(X_train,y_train)\n",
    "scores1 = NB_mod.predict(X_test)\n",
    "pnn = algorithms.PNN(std=1.5, verbose=False)\n",
    "pnn.train(X_train, y_train)\n",
    "scores2 = pnn.predict(X_test)"
   ]
  },
  {
   "cell_type": "code",
   "execution_count": 4,
   "metadata": {},
   "outputs": [
    {
     "name": "stdout",
     "output_type": "stream",
     "text": [
      "Untuk X1: -0.487784\n",
      "Untuk X2: -0.145059\n",
      "Hasil prediksi progam NBC: 1\n",
      "Hasil prediksi progam PNN: 0\n",
      "\n",
      "Untuk X1: -1.367309\n",
      "Untuk X2: -0.952126\n",
      "Hasil prediksi progam NBC: 1\n",
      "Hasil prediksi progam PNN: 1\n",
      "\n",
      "Untuk X1: -0.048022\n",
      "Untuk X2: 2.640866\n",
      "Hasil prediksi progam NBC: 1\n",
      "Hasil prediksi progam PNN: 1\n",
      "\n"
     ]
    }
   ],
   "source": [
    "for i in range(3):\n",
    "    print(\"Untuk X1: %f\" % X_test[i,0])\n",
    "    print(\"Untuk X2: %f\" % X_test[i,1])\n",
    "    print(\"Hasil prediksi progam NBC: %d\" % scores1[i])\n",
    "    print(\"Hasil prediksi progam PNN: %d\" % scores2[i])\n",
    "    print('')"
   ]
  }
 ],
 "metadata": {
  "kernelspec": {
   "display_name": "Python 3",
   "language": "python",
   "name": "python3"
  },
  "language_info": {
   "codemirror_mode": {
    "name": "ipython",
    "version": 3
   },
   "file_extension": ".py",
   "mimetype": "text/x-python",
   "name": "python",
   "nbconvert_exporter": "python",
   "pygments_lexer": "ipython3",
   "version": "3.7.3"
  }
 },
 "nbformat": 4,
 "nbformat_minor": 4
}
